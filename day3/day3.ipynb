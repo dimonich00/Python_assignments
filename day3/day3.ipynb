{
 "cells": [
  {
   "cell_type": "code",
   "execution_count": 5,
   "metadata": {},
   "outputs": [],
   "source": [
    "from math import pi"
   ]
  },
  {
   "cell_type": "code",
   "execution_count": 6,
   "metadata": {},
   "outputs": [
    {
     "name": "stdout",
     "output_type": "stream",
     "text": [
      "It's not a number, please enter the number\n"
     ]
    }
   ],
   "source": [
    "while True:\n",
    "    try:\n",
    "        width = float(input(\"Please enter the rectangle width \"))\n",
    "        break\n",
    "    except ValueError:\n",
    "        continue\n",
    "\n",
    "\n",
    "while True:\n",
    "    try:\n",
    "        height = float(input(\"Please enter the rectangle height \"))\n",
    "        break\n",
    "    except ValueError:\n",
    "        continue\n",
    "    \n",
    "while True:\n",
    "    try:\n",
    "        radius = float(input(\"Please enter the circle radius \"))\n",
    "        break\n",
    "    except ValueError:\n",
    "        continue\n",
    "\n",
    "\n"
   ]
  },
  {
   "cell_type": "code",
   "execution_count": 7,
   "metadata": {},
   "outputs": [
    {
     "name": "stdout",
     "output_type": "stream",
     "text": [
      "Area of the rectangle = 276.0\n",
      "Circumference of the rectangle = 70.0\n"
     ]
    }
   ],
   "source": [
    "print(f\"Area of the rectangle = {width * height}\")\n",
    "print(f\"Circumference of the rectangle = {2*width + 2*height}\")"
   ]
  },
  {
   "cell_type": "code",
   "execution_count": 8,
   "metadata": {},
   "outputs": [
    {
     "name": "stdout",
     "output_type": "stream",
     "text": [
      "Area of the circle =  3216.9909\n",
      "Circumference of the circle =  201.0619\n"
     ]
    }
   ],
   "source": [
    "print(f\"Area of the circle = {pi * radius * radius: .4f}\")\n",
    "print(f\"Circumference of the circle = {2 * pi *radius: .4f}\")"
   ]
  }
 ],
 "metadata": {
  "kernelspec": {
   "display_name": "Python 3",
   "language": "python",
   "name": "python3"
  },
  "language_info": {
   "codemirror_mode": {
    "name": "ipython",
    "version": 3
   },
   "file_extension": ".py",
   "mimetype": "text/x-python",
   "name": "python",
   "nbconvert_exporter": "python",
   "pygments_lexer": "ipython3",
   "version": "3.10.12"
  }
 },
 "nbformat": 4,
 "nbformat_minor": 2
}
